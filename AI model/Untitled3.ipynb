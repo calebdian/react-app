{
 "cells": [
  {
   "cell_type": "code",
   "execution_count": 5,
   "id": "7dbb7dcd-2456-4e36-8829-b8740c7d6085",
   "metadata": {},
   "outputs": [],
   "source": [
    "import pickle\n",
    "import pandas as pd"
   ]
  },
  {
   "cell_type": "code",
   "execution_count": 6,
   "id": "85788b56-4ab8-40d7-8bf3-d8446aff9587",
   "metadata": {},
   "outputs": [],
   "source": [
    "with open('classifier1.pkl', 'rb') as file:\n",
    "    clf = pickle.load(file)"
   ]
  },
  {
   "cell_type": "code",
   "execution_count": 7,
   "id": "6ef932bc-5ac1-4649-9ff4-24c69953576d",
   "metadata": {},
   "outputs": [],
   "source": [
    "# prediction = clf.predict([[2312,3789,5000,2421,4245,5986,7145,8096,9098,1012,2312]])\n",
    "prediction_data = pd.DataFrame([[7, 1634,4]], columns=['month', 'units_shipped_kg', 'price_per_kg'])\n",
    "prediction = clf.predict(prediction_data)"
   ]
  },
  {
   "cell_type": "code",
   "execution_count": 8,
   "id": "644a01cc-599a-454c-9637-2239d550814a",
   "metadata": {},
   "outputs": [
    {
     "data": {
      "text/plain": [
       "array([1052.08331388])"
      ]
     },
     "execution_count": 8,
     "metadata": {},
     "output_type": "execute_result"
    }
   ],
   "source": [
    "prediction"
   ]
  },
  {
   "cell_type": "code",
   "execution_count": null,
   "id": "3004a282-9b11-40fa-8d1b-2bb64264c523",
   "metadata": {},
   "outputs": [],
   "source": []
  }
 ],
 "metadata": {
  "kernelspec": {
   "display_name": "Python 3 (ipykernel)",
   "language": "python",
   "name": "python3"
  },
  "language_info": {
   "codemirror_mode": {
    "name": "ipython",
    "version": 3
   },
   "file_extension": ".py",
   "mimetype": "text/x-python",
   "name": "python",
   "nbconvert_exporter": "python",
   "pygments_lexer": "ipython3",
   "version": "3.12.0"
  }
 },
 "nbformat": 4,
 "nbformat_minor": 5
}
