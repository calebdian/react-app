{
 "cells": [
  {
   "cell_type": "code",
   "execution_count": 6,
   "id": "14d02710-86f9-4238-86a0-85c2637dd9d2",
   "metadata": {},
   "outputs": [],
   "source": [
    "import pickle\n",
    "import pandas as pd"
   ]
  },
  {
   "cell_type": "code",
   "execution_count": 7,
   "id": "84fcca01-a66e-496a-99c1-44188bdeaf5a",
   "metadata": {},
   "outputs": [],
   "source": [
    "with open('classifier.pkl', 'rb') as file:\n",
    "    clf = pickle.load(file)"
   ]
  },
  {
   "cell_type": "code",
   "execution_count": 8,
   "id": "62b44e94-31c2-4fa0-8cb7-5bb8e25e52d9",
   "metadata": {
    "scrolled": true
   },
   "outputs": [],
   "source": [
    "# prediction = clf.predict([[2312,3789,5000,2421,4245,5986,7145,8096,9098,1012,2312]])\n",
    "prediction_data = pd.DataFrame([[7, 1634,4]], columns=['month', 'units_shipped_kg', 'price_per_kg'])\n",
    "prediction = clf.predict(prediction_data)"
   ]
  },
  {
   "cell_type": "code",
   "execution_count": 9,
   "id": "10e2e93b-fecc-4490-b31d-72c13788ee2a",
   "metadata": {},
   "outputs": [
    {
     "data": {
      "text/plain": [
       "array([1052.08331388])"
      ]
     },
     "execution_count": 9,
     "metadata": {},
     "output_type": "execute_result"
    }
   ],
   "source": [
    "prediction"
   ]
  },
  {
   "cell_type": "code",
   "execution_count": null,
   "id": "646c1744-fdca-4506-9be6-c3ebb2e376d8",
   "metadata": {},
   "outputs": [],
   "source": []
  }
 ],
 "metadata": {
  "kernelspec": {
   "display_name": "Python 3 (ipykernel)",
   "language": "python",
   "name": "python3"
  },
  "language_info": {
   "codemirror_mode": {
    "name": "ipython",
    "version": 3
   },
   "file_extension": ".py",
   "mimetype": "text/x-python",
   "name": "python",
   "nbconvert_exporter": "python",
   "pygments_lexer": "ipython3",
   "version": "3.12.0"
  }
 },
 "nbformat": 4,
 "nbformat_minor": 5
}
